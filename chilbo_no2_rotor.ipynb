{
 "cells": [
  {
   "cell_type": "code",
   "execution_count": 2,
   "metadata": {},
   "outputs": [
    {
     "name": "stdout",
     "output_type": "stream",
     "text": [
      "[[1 2]\n",
      " [1 2]]\n"
     ]
    }
   ],
   "source": [
    "import numpy as np \n",
    "a = np.array([[1,2],[1,2]])\n",
    "print(a)"
   ]
  },
  {
   "cell_type": "code",
   "execution_count": 13,
   "metadata": {},
   "outputs": [],
   "source": [
    "# scale on 600% of table(# 3182-310-GN-20007)\n",
    "\n",
    "do_aux_shaft = 150/15.655*15\n",
    "di_aux_shaft = 150/15.655*10\n",
    "\n",
    "sample = 150/15.655*86\n",
    "sample2 = 150/15.655*101.5\n",
    "\n",
    "sample3 = 150/15.655*60\n",
    "\n",
    "sample4 = 150/15.655*4.5\n",
    "\n",
    "sample5 = 150/15.655*21\n",
    "\n",
    "sample6 = 150/15.655*113\n",
    "\n",
    "sample7 = 150/15.655*14.5"
   ]
  },
  {
   "cell_type": "code",
   "execution_count": 28,
   "metadata": {},
   "outputs": [
    {
     "data": {
      "text/plain": [
       "497.0"
      ]
     },
     "execution_count": 28,
     "metadata": {},
     "output_type": "execute_result"
    }
   ],
   "source": [
    "575-(130+285)\n",
    "\n",
    "1082-311*3\n",
    "\n",
    "311-149\n",
    "\n",
    "265-43\n",
    "\n",
    "\n",
    "2017/6\n",
    "\n",
    "336+336+336+336+336+337\n",
    "\n",
    "742.5/2\n",
    "\n",
    "(485-82.5)/2\n",
    "\n",
    "\n",
    "139-51\n",
    "\n",
    "1572-88-201-201-88\n",
    "\n",
    "994/2"
   ]
  },
  {
   "cell_type": "code",
   "execution_count": 14,
   "metadata": {},
   "outputs": [
    {
     "name": "stdout",
     "output_type": "stream",
     "text": [
      "mass:41.81741463860382\n"
     ]
    }
   ],
   "source": [
    "rho = 7810      # steel: kg/m3\n",
    "PI = np.pi\n",
    "Do = do_aux_shaft*0.001\n",
    "Di = di_aux_shaft*0.001\n",
    "L = 150/15.655*62*0.001\n",
    "\n",
    "mass = rho*(PI/4)*(Do**2 - Di**2)*L\n",
    "print(f\"mass:{mass}\")\n"
   ]
  },
  {
   "cell_type": "code",
   "execution_count": 3,
   "metadata": {},
   "outputs": [],
   "source": []
  },
  {
   "cell_type": "code",
   "execution_count": null,
   "metadata": {},
   "outputs": [],
   "source": [
    "from pathlib import Path\n",
    "import ross as rs\n",
    "import numpy as np\n",
    "\n",
    "# uncomment the lines below if you are having problems with plots not showing\n",
    "# import plotly.io as pio\n",
    "# pio.renderers.default = \"notebook\""
   ]
  }
 ],
 "metadata": {
  "kernelspec": {
   "display_name": "Python 3",
   "language": "python",
   "name": "python3"
  },
  "language_info": {
   "codemirror_mode": {
    "name": "ipython",
    "version": 3
   },
   "file_extension": ".py",
   "mimetype": "text/x-python",
   "name": "python",
   "nbconvert_exporter": "python",
   "pygments_lexer": "ipython3",
   "version": "3.11.6"
  }
 },
 "nbformat": 4,
 "nbformat_minor": 2
}
